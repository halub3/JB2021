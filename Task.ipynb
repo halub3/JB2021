{
 "cells": [
  {
   "cell_type": "code",
   "execution_count": 1,
   "metadata": {},
   "outputs": [],
   "source": [
    "#saa 2021\n",
    "import pandas as pd\n",
    "import numpy as np\n",
    "from tqdm import tqdm"
   ]
  },
  {
   "cell_type": "code",
   "execution_count": 2,
   "metadata": {},
   "outputs": [],
   "source": [
    "#data = pd.read_csv('data/dataset.csv')\n",
    "data = pd.read_csv('dataset.csv')\n",
    "data = data.sort_values(['timestamp'])"
   ]
  },
  {
   "cell_type": "code",
   "execution_count": 3,
   "metadata": {},
   "outputs": [],
   "source": [
    "train = data[:80000]\n",
    "test = data[80000:]"
   ]
  },
  {
   "cell_type": "code",
   "execution_count": 4,
   "metadata": {},
   "outputs": [
    {
     "data": {
      "text/html": [
       "<div>\n",
       "<style scoped>\n",
       "    .dataframe tbody tr th:only-of-type {\n",
       "        vertical-align: middle;\n",
       "    }\n",
       "\n",
       "    .dataframe tbody tr th {\n",
       "        vertical-align: top;\n",
       "    }\n",
       "\n",
       "    .dataframe thead th {\n",
       "        text-align: right;\n",
       "    }\n",
       "</style>\n",
       "<table border=\"1\" class=\"dataframe\">\n",
       "  <thead>\n",
       "    <tr style=\"text-align: right;\">\n",
       "      <th></th>\n",
       "      <th>user_id</th>\n",
       "      <th>item_id</th>\n",
       "      <th>rating</th>\n",
       "      <th>timestamp</th>\n",
       "    </tr>\n",
       "  </thead>\n",
       "  <tbody>\n",
       "    <tr>\n",
       "      <th>217</th>\n",
       "      <td>259</td>\n",
       "      <td>255</td>\n",
       "      <td>4</td>\n",
       "      <td>874724710</td>\n",
       "    </tr>\n",
       "    <tr>\n",
       "      <th>83968</th>\n",
       "      <td>259</td>\n",
       "      <td>286</td>\n",
       "      <td>4</td>\n",
       "      <td>874724727</td>\n",
       "    </tr>\n",
       "    <tr>\n",
       "      <th>43030</th>\n",
       "      <td>259</td>\n",
       "      <td>298</td>\n",
       "      <td>4</td>\n",
       "      <td>874724754</td>\n",
       "    </tr>\n",
       "    <tr>\n",
       "      <th>21399</th>\n",
       "      <td>259</td>\n",
       "      <td>185</td>\n",
       "      <td>4</td>\n",
       "      <td>874724781</td>\n",
       "    </tr>\n",
       "    <tr>\n",
       "      <th>82658</th>\n",
       "      <td>259</td>\n",
       "      <td>173</td>\n",
       "      <td>4</td>\n",
       "      <td>874724843</td>\n",
       "    </tr>\n",
       "  </tbody>\n",
       "</table>\n",
       "</div>"
      ],
      "text/plain": [
       "       user_id  item_id  rating  timestamp\n",
       "217        259      255       4  874724710\n",
       "83968      259      286       4  874724727\n",
       "43030      259      298       4  874724754\n",
       "21399      259      185       4  874724781\n",
       "82658      259      173       4  874724843"
      ]
     },
     "execution_count": 4,
     "metadata": {},
     "output_type": "execute_result"
    }
   ],
   "source": [
    "train.head()"
   ]
  },
  {
   "cell_type": "code",
   "execution_count": 5,
   "metadata": {},
   "outputs": [
    {
     "data": {
      "text/html": [
       "<div>\n",
       "<style scoped>\n",
       "    .dataframe tbody tr th:only-of-type {\n",
       "        vertical-align: middle;\n",
       "    }\n",
       "\n",
       "    .dataframe tbody tr th {\n",
       "        vertical-align: top;\n",
       "    }\n",
       "\n",
       "    .dataframe thead th {\n",
       "        text-align: right;\n",
       "    }\n",
       "</style>\n",
       "<table border=\"1\" class=\"dataframe\">\n",
       "  <thead>\n",
       "    <tr style=\"text-align: right;\">\n",
       "      <th></th>\n",
       "      <th>user_id</th>\n",
       "      <th>item_id</th>\n",
       "      <th>rating</th>\n",
       "      <th>timestamp</th>\n",
       "    </tr>\n",
       "  </thead>\n",
       "  <tbody>\n",
       "    <tr>\n",
       "      <th>1346</th>\n",
       "      <td>3</td>\n",
       "      <td>245</td>\n",
       "      <td>1</td>\n",
       "      <td>889237247</td>\n",
       "    </tr>\n",
       "    <tr>\n",
       "      <th>27978</th>\n",
       "      <td>3</td>\n",
       "      <td>355</td>\n",
       "      <td>3</td>\n",
       "      <td>889237247</td>\n",
       "    </tr>\n",
       "    <tr>\n",
       "      <th>1260</th>\n",
       "      <td>3</td>\n",
       "      <td>335</td>\n",
       "      <td>1</td>\n",
       "      <td>889237269</td>\n",
       "    </tr>\n",
       "    <tr>\n",
       "      <th>38673</th>\n",
       "      <td>3</td>\n",
       "      <td>322</td>\n",
       "      <td>3</td>\n",
       "      <td>889237269</td>\n",
       "    </tr>\n",
       "    <tr>\n",
       "      <th>3761</th>\n",
       "      <td>3</td>\n",
       "      <td>323</td>\n",
       "      <td>2</td>\n",
       "      <td>889237269</td>\n",
       "    </tr>\n",
       "  </tbody>\n",
       "</table>\n",
       "</div>"
      ],
      "text/plain": [
       "       user_id  item_id  rating  timestamp\n",
       "1346         3      245       1  889237247\n",
       "27978        3      355       3  889237247\n",
       "1260         3      335       1  889237269\n",
       "38673        3      322       3  889237269\n",
       "3761         3      323       2  889237269"
      ]
     },
     "execution_count": 5,
     "metadata": {},
     "output_type": "execute_result"
    }
   ],
   "source": [
    "test.head()"
   ]
  },
  {
   "cell_type": "code",
   "execution_count": 6,
   "metadata": {},
   "outputs": [],
   "source": [
    "def average_precision(actual, recommended, k=30):\n",
    "    ap_sum = 0\n",
    "    hits = 0\n",
    "    for i in range(k): #Пробегаем по k\n",
    "        product_id = recommended[i] if i < len(recommended) else None #Получаем список продуктов из recomend\n",
    "        if product_id is not None and product_id in actual: #Если есть попадание в реальную\n",
    "            hits += 1\n",
    "            ap_sum += hits / (i + 1) #Чем больше неверных в начале, тем хуже\n",
    "    return ap_sum / k\n",
    "\n",
    "\n",
    "def normalized_average_precision(actual, recommended, k=30): #Тупо считаем долю \n",
    "    actual = set(actual)\n",
    "    if len(actual) == 0:\n",
    "        return 0.0\n",
    "\n",
    "    ap = average_precision(actual, recommended, k=k)\n",
    "    ap_ideal = average_precision(actual, list(actual)[:k], k=k)\n",
    "    return ap / ap_ideal"
   ]
  },
  {
   "cell_type": "code",
   "execution_count": 13,
   "metadata": {},
   "outputs": [],
   "source": [
    "#! You can run this block just once !\n",
    "\n",
    "from  sklearn.metrics.pairwise import pairwise_distances\n",
    "\n",
    "items = data['item_id'].unique() # unique items\n",
    "users = data['user_id'].unique() # unique users\n",
    "width = items.shape[0] #width of the matrix\n",
    "height = users.shape[0] #height of the matrix\n",
    "\n",
    "#Create special matrix: rows - users, columns - items, value - user's grade for item (Nan = 0)\n",
    "matrix = np.empty([height,width])\n",
    "for i, user in enumerate(users):\n",
    "    data_user = train[train['user_id']==user].iloc[:,1:3]\n",
    "    \n",
    "    if data_user.shape[0]==0:\n",
    "        matrix[i,:] = 0\n",
    "    else:\n",
    "        items_user = list(train[train['user_id']==user]['item_id'].values)\n",
    "        for k, item in enumerate(items):\n",
    "            if item not in items_user:\n",
    "                matrix[i,k] = 0\n",
    "            else:\n",
    "                matrix[i,k] = data_user[data_user['item_id']==item]['rating'].values[0]\n",
    "\n",
    "\n",
    "#Create DataFrame with the matrix\n",
    "DF_matrix = pd.DataFrame(matrix, index=users, columns=items)\n",
    "                \n",
    "#Create matrix cosine metrics for users\n",
    "user_similarity = pairwise_distances(matrix, metric='cosine')"
   ]
  },
  {
   "cell_type": "code",
   "execution_count": 18,
   "metadata": {},
   "outputs": [],
   "source": [
    "def recommend(user):\n",
    "    \n",
    "    #Find row with index=user\n",
    "    row = list(DF_matrix.index).index(user)\n",
    "    \n",
    "    #Select row from similarity matrix\n",
    "    user_sim = user_similarity[row]\n",
    "    \n",
    "    #Select the first 100 users in top without the first place (it's our user too)\n",
    "    indexes = user_sim.argsort()[1:101]\n",
    "    \n",
    "    #Select row from similarity matrix with first 100 users\n",
    "    user_sim_100 = user_similarity[row][indexes]\n",
    "    \n",
    "    #Count the mean grade for each user\n",
    "    user_mean = matrix[row].mean()\n",
    "    other_users_mean = matrix[indexes].mean(axis=1)\n",
    "    \n",
    "    #Initialise the matrix\n",
    "    pred = np.empty([1,width])\n",
    "    \n",
    "    #Count the denominator\n",
    "    denominator = np.abs(user_sim_100).sum()\n",
    "    \n",
    "    for i in range(width):\n",
    "        #Count the numerator for each item\n",
    "        numerator = user_sim_100.dot(matrix[indexes][:,i] - other_users_mean)\n",
    "        #Add value to prediction for each item\n",
    "        pred[0,i] = user_mean + numerator / denominator\n",
    "    \n",
    "    #Transform prediction to DataFrame\n",
    "    pred = pd.DataFrame(pred[0,:], index=list(items), columns=['Pred'])\n",
    "    \n",
    "    #Select items from user's items in train\n",
    "    train_items = train[train['user_id']==user]['item_id'].unique()\n",
    "    \n",
    "    #Drop train items (because thees items can't be in test)\n",
    "    pred.drop(train_items, axis='index', inplace=True)\n",
    "    \n",
    "    #Sort prediction by grade and take the first 30\n",
    "    pred_user = pred.sort_values(by=['Pred'], ascending=False).index[:30]\n",
    "     \n",
    "    return list(pred_user)"
   ]
  },
  {
   "cell_type": "code",
   "execution_count": 19,
   "metadata": {},
   "outputs": [
    {
     "name": "stderr",
     "output_type": "stream",
     "text": [
      "100%|██████████| 301/301 [01:38<00:00,  3.07it/s]\n"
     ]
    },
    {
     "data": {
      "text/plain": [
       "0.18077461904070333"
      ]
     },
     "execution_count": 19,
     "metadata": {},
     "output_type": "execute_result"
    }
   ],
   "source": [
    "scores = []\n",
    "for user in tqdm(test['user_id'].unique()):\n",
    "    actual = list(test[test['user_id'] == user]['item_id'])\n",
    "    recommended = recommend(user)\n",
    "    \n",
    "    scores.append(normalized_average_precision(actual, recommended))\n",
    "\n",
    "np.mean(scores)"
   ]
  }
 ],
 "metadata": {
  "kernelspec": {
   "display_name": "Python 3",
   "language": "python",
   "name": "python3"
  },
  "language_info": {
   "codemirror_mode": {
    "name": "ipython",
    "version": 3
   },
   "file_extension": ".py",
   "mimetype": "text/x-python",
   "name": "python",
   "nbconvert_exporter": "python",
   "pygments_lexer": "ipython3",
   "version": "3.8.3"
  }
 },
 "nbformat": 4,
 "nbformat_minor": 4
}
